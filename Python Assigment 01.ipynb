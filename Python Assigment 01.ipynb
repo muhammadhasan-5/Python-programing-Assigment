{
 "cells": [
  {
   "cell_type": "code",
   "execution_count": 5,
   "metadata": {},
   "outputs": [
    {
     "name": "stdout",
     "output_type": "stream",
     "text": [
      "Input the radius of the circle : 1.1\n",
      "The area of the circle with radius 1.1 is: 3.80132711084\n"
     ]
    }
   ],
   "source": [
    "from math import pi\n",
    "r = float(input (\"Input the radius of the circle : \"))\n",
    "print (\"The area of the circle with radius \" + str(r) + \" is: \" + str(pi * r**2))"
   ]
  },
  {
   "cell_type": "code",
   "execution_count": 6,
   "metadata": {},
   "outputs": [
    {
     "name": "stdout",
     "output_type": "stream",
     "text": [
      "Twinkle, Twinkle, Little STRA \n",
      " How I wondar what you are! \n",
      "\t Up above the world so high,\n",
      "\t Like a dimond in the sky.\n",
      "\b Twinkle, Twinkle, Little STRA \n",
      " \t How I wondar what you are \n"
     ]
    }
   ],
   "source": [
    "print(\"Twinkle, Twinkle, Little STRA \\n How I wondar what you are! \\n\\t Up above the world so high,\\n\\t Like a dimond in the sky.\\n\\b Twinkle, Twinkle, Little STRA \\n \\t How I wondar what you are \")"
   ]
  },
  {
   "cell_type": "code",
   "execution_count": 7,
   "metadata": {},
   "outputs": [
    {
     "name": "stdout",
     "output_type": "stream",
     "text": [
      "version 2.7\n"
     ]
    }
   ],
   "source": [
    "python=\"version 2.7\"\n",
    "print(python)\n"
   ]
  },
  {
   "cell_type": "code",
   "execution_count": 8,
   "metadata": {},
   "outputs": [
    {
     "name": "stdout",
     "output_type": "stream",
     "text": [
      "11/2/19 4:46\n"
     ]
    }
   ],
   "source": [
    "Date=\"11/2/19\"\n",
    "time=\"4:46\"\n",
    "d=Date+ \" \" +time\n",
    "print(d)\n"
   ]
  },
  {
   "cell_type": "code",
   "execution_count": 9,
   "metadata": {},
   "outputs": [
    {
     "name": "stdout",
     "output_type": "stream",
     "text": [
      "Input the radius of the circle : 1.22\n",
      "The area of the circle with radius 1.22 is: 4.6759465056\n"
     ]
    }
   ],
   "source": [
    "from math import pi\n",
    "r = float(input (\"Input the radius of the circle : \"))\n",
    "print (\"The area of the circle with radius \" + str(r) + \" is: \" + str(pi * r**2))\n"
   ]
  },
  {
   "cell_type": "code",
   "execution_count": 10,
   "metadata": {},
   "outputs": [
    {
     "name": "stdout",
     "output_type": "stream",
     "text": [
      "Enter the first number12\n",
      "Enter the second number23\n",
      "35\n"
     ]
    }
   ],
   "source": [
    "a=int(input(\"Enter the first number\")) \n",
    "b=int(input(\"Enter the second number\"))\n",
    "c=a+b\n",
    "print(c)\n"
   ]
  },
  {
   "cell_type": "code",
   "execution_count": null,
   "metadata": {},
   "outputs": [],
   "source": []
  }
 ],
 "metadata": {
  "kernelspec": {
   "display_name": "Python 2",
   "language": "python",
   "name": "python2"
  },
  "language_info": {
   "codemirror_mode": {
    "name": "ipython",
    "version": 2
   },
   "file_extension": ".py",
   "mimetype": "text/x-python",
   "name": "python",
   "nbconvert_exporter": "python",
   "pygments_lexer": "ipython2",
   "version": "2.7.16"
  }
 },
 "nbformat": 4,
 "nbformat_minor": 2
}
